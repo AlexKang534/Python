{
 "cells": [
  {
   "cell_type": "code",
   "execution_count": 6,
   "metadata": {},
   "outputs": [
    {
     "name": "stdout",
     "output_type": "stream",
     "text": [
      "You lost\n"
     ]
    }
   ],
   "source": [
    "import random\n",
    "\n",
    "def play(): \n",
    "    user = input(\"'r' for rock, 'p' for paper, 's' for scissors\")\n",
    "    computer = random.choice(['r', 'p', 's'])\n",
    "\n",
    "    if user == computer: \n",
    "        return 'It\"s a tie'\n",
    "\n",
    "    if is_win(user, computer):\n",
    "        return 'You won'\n",
    "\n",
    "    return 'You lost'\n",
    "\n",
    "    \n",
    "def is_win(player, opponent): \n",
    "    if (player == 'r' and opponent == 's') or (player == 's' and opponent == 'p') or (player == 'p' and opponent =='r'): \n",
    "        return True \n",
    "\n",
    "print(play())"
   ]
  }
 ],
 "metadata": {
  "kernelspec": {
   "display_name": "Python 3.10.5 64-bit",
   "language": "python",
   "name": "python3"
  },
  "language_info": {
   "codemirror_mode": {
    "name": "ipython",
    "version": 3
   },
   "file_extension": ".py",
   "mimetype": "text/x-python",
   "name": "python",
   "nbconvert_exporter": "python",
   "pygments_lexer": "ipython3",
   "version": "3.10.5"
  },
  "orig_nbformat": 4,
  "vscode": {
   "interpreter": {
    "hash": "ab2612aaeb4f5f80da0cacced4c32c0afe9440b5d46c96d62a3ef50ac2ddad34"
   }
  }
 },
 "nbformat": 4,
 "nbformat_minor": 2
}
