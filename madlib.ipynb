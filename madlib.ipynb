{
 "cells": [
  {
   "cell_type": "code",
   "execution_count": 2,
   "metadata": {},
   "outputs": [
    {
     "name": "stdout",
     "output_type": "stream",
     "text": [
      "Computer programming is so Fucked! It gets increasingly obnoxious because I am trying to learn a new langauge \\ when I think about it, I want to die. I should make sure that I jump like you are ALex\n"
     ]
    }
   ],
   "source": [
    "random = input(\"random: \")\n",
    "verb1 = input(\"Verb: \")\n",
    "verb2 = input(\"Verb: \")\n",
    "person = input(\"person: \") \n",
    "\n",
    "madlib = f\"Computer programming is so {random}! It gets increasingly obnoxious because I am trying to learn a new langauge \\ when I think about it, I want to {verb1}. I should make sure that I {verb2} like you are {person}\"\n",
    "\n",
    "print(madlib)\n"
   ]
  }
 ],
 "metadata": {
  "kernelspec": {
   "display_name": "Python 3.10.5 64-bit",
   "language": "python",
   "name": "python3"
  },
  "language_info": {
   "codemirror_mode": {
    "name": "ipython",
    "version": 3
   },
   "file_extension": ".py",
   "mimetype": "text/x-python",
   "name": "python",
   "nbconvert_exporter": "python",
   "pygments_lexer": "ipython3",
   "version": "3.10.5"
  },
  "orig_nbformat": 4,
  "vscode": {
   "interpreter": {
    "hash": "ab2612aaeb4f5f80da0cacced4c32c0afe9440b5d46c96d62a3ef50ac2ddad34"
   }
  }
 },
 "nbformat": 4,
 "nbformat_minor": 2
}
