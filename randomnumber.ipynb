{
 "cells": [
  {
   "cell_type": "code",
   "execution_count": 5,
   "metadata": {},
   "outputs": [
    {
     "ename": "ValueError",
     "evalue": "empty range for randrange() (749, 749, 0)",
     "output_type": "error",
     "traceback": [
      "\u001b[1;31m---------------------------------------------------------------------------\u001b[0m",
      "\u001b[1;31mValueError\u001b[0m                                Traceback (most recent call last)",
      "\u001b[1;32mc:\\Users\\alexk\\Documents\\GitHub\\testing\\Python\\randomnumber.ipynb Cell 1'\u001b[0m in \u001b[0;36m<cell line: 33>\u001b[1;34m()\u001b[0m\n\u001b[0;32m     <a href='vscode-notebook-cell:/c%3A/Users/alexk/Documents/GitHub/testing/Python/randomnumber.ipynb#ch0000000?line=29'>30</a>\u001b[0m             low \u001b[39m=\u001b[39m guess \u001b[39m+\u001b[39m \u001b[39m1\u001b[39m\n\u001b[0;32m     <a href='vscode-notebook-cell:/c%3A/Users/alexk/Documents/GitHub/testing/Python/randomnumber.ipynb#ch0000000?line=30'>31</a>\u001b[0m     \u001b[39mprint\u001b[39m(\u001b[39mf\u001b[39m\u001b[39m\"\u001b[39m\u001b[39mSo the number was \u001b[39m\u001b[39m{\u001b[39;00mguess\u001b[39m}\u001b[39;00m\u001b[39m!\u001b[39m\u001b[39m\"\u001b[39m)\n\u001b[1;32m---> <a href='vscode-notebook-cell:/c%3A/Users/alexk/Documents/GitHub/testing/Python/randomnumber.ipynb#ch0000000?line=32'>33</a>\u001b[0m computer_guess(\u001b[39m1000\u001b[39;49m)\n",
      "\u001b[1;32mc:\\Users\\alexk\\Documents\\GitHub\\testing\\Python\\randomnumber.ipynb Cell 1'\u001b[0m in \u001b[0;36mcomputer_guess\u001b[1;34m(x)\u001b[0m\n\u001b[0;32m     <a href='vscode-notebook-cell:/c%3A/Users/alexk/Documents/GitHub/testing/Python/randomnumber.ipynb#ch0000000?line=20'>21</a>\u001b[0m \u001b[39mwhile\u001b[39;00m feedback \u001b[39m!=\u001b[39m \u001b[39m'\u001b[39m\u001b[39mc\u001b[39m\u001b[39m'\u001b[39m: \n\u001b[0;32m     <a href='vscode-notebook-cell:/c%3A/Users/alexk/Documents/GitHub/testing/Python/randomnumber.ipynb#ch0000000?line=21'>22</a>\u001b[0m     \u001b[39mif\u001b[39;00m low \u001b[39m!=\u001b[39m high:\n\u001b[1;32m---> <a href='vscode-notebook-cell:/c%3A/Users/alexk/Documents/GitHub/testing/Python/randomnumber.ipynb#ch0000000?line=22'>23</a>\u001b[0m         guess \u001b[39m=\u001b[39m random\u001b[39m.\u001b[39;49mrandint(low, high)\n\u001b[0;32m     <a href='vscode-notebook-cell:/c%3A/Users/alexk/Documents/GitHub/testing/Python/randomnumber.ipynb#ch0000000?line=23'>24</a>\u001b[0m     \u001b[39melse\u001b[39;00m: \n\u001b[0;32m     <a href='vscode-notebook-cell:/c%3A/Users/alexk/Documents/GitHub/testing/Python/randomnumber.ipynb#ch0000000?line=24'>25</a>\u001b[0m         guess \u001b[39m=\u001b[39m low \u001b[39m#doesn't matter, value is irrelevant\u001b[39;00m\n",
      "File \u001b[1;32mc:\\Users\\alexk\\AppData\\Local\\Programs\\Python\\Python310\\lib\\random.py:370\u001b[0m, in \u001b[0;36mRandom.randint\u001b[1;34m(self, a, b)\u001b[0m\n\u001b[0;32m    366\u001b[0m \u001b[39mdef\u001b[39;00m \u001b[39mrandint\u001b[39m(\u001b[39mself\u001b[39m, a, b):\n\u001b[0;32m    367\u001b[0m     \u001b[39m\"\"\"Return random integer in range [a, b], including both end points.\u001b[39;00m\n\u001b[0;32m    368\u001b[0m \u001b[39m    \"\"\"\u001b[39;00m\n\u001b[1;32m--> 370\u001b[0m     \u001b[39mreturn\u001b[39;00m \u001b[39mself\u001b[39;49m\u001b[39m.\u001b[39;49mrandrange(a, b\u001b[39m+\u001b[39;49m\u001b[39m1\u001b[39;49m)\n",
      "File \u001b[1;32mc:\\Users\\alexk\\AppData\\Local\\Programs\\Python\\Python310\\lib\\random.py:353\u001b[0m, in \u001b[0;36mRandom.randrange\u001b[1;34m(self, start, stop, step)\u001b[0m\n\u001b[0;32m    351\u001b[0m     \u001b[39mif\u001b[39;00m width \u001b[39m>\u001b[39m \u001b[39m0\u001b[39m:\n\u001b[0;32m    352\u001b[0m         \u001b[39mreturn\u001b[39;00m istart \u001b[39m+\u001b[39m \u001b[39mself\u001b[39m\u001b[39m.\u001b[39m_randbelow(width)\n\u001b[1;32m--> 353\u001b[0m     \u001b[39mraise\u001b[39;00m \u001b[39mValueError\u001b[39;00m(\u001b[39m\"\u001b[39m\u001b[39mempty range for randrange() (\u001b[39m\u001b[39m%d\u001b[39;00m\u001b[39m, \u001b[39m\u001b[39m%d\u001b[39;00m\u001b[39m, \u001b[39m\u001b[39m%d\u001b[39;00m\u001b[39m)\u001b[39m\u001b[39m\"\u001b[39m \u001b[39m%\u001b[39m (istart, istop, width))\n\u001b[0;32m    355\u001b[0m \u001b[39m# Non-unit step argument supplied.\u001b[39;00m\n\u001b[0;32m    356\u001b[0m \u001b[39mif\u001b[39;00m istep \u001b[39m>\u001b[39m \u001b[39m0\u001b[39m:\n",
      "\u001b[1;31mValueError\u001b[0m: empty range for randrange() (749, 749, 0)"
     ]
    }
   ],
   "source": [
    "import random\n",
    "\n",
    "\n",
    "def guess(x):\n",
    "    random_number = random.randint(1, x)\n",
    "    guess = 0\n",
    "    while guess != random_number: \n",
    "        guess = int(input(f'Guess a number between 1 and {x}: '))\n",
    "        if guess < random_number:\n",
    "            print(\"Try again too low\")\n",
    "        elif guess > random_number:\n",
    "            print(\"too high try gaain\")\n",
    "        \n",
    "    print(f\"You got it right. it was {random_number}\")\n",
    "\n",
    "\n",
    "def computer_guess(x): \n",
    "    low = 1 \n",
    "    high = x\n",
    "    feedback = ''\n",
    "    while feedback != 'c': \n",
    "        if low != high:\n",
    "            guess = random.randint(low, high)\n",
    "        else: \n",
    "            guess = low #doesn't matter, value is irrelevant\n",
    "        feedback = input(f'Is {guess} too high (H), too low (L), or correct (C)?').lower()\n",
    "        if feedback == 'h':\n",
    "            high = guess - 1\n",
    "        elif feedback == 'l':\n",
    "            low = guess + 1\n",
    "    print(f\"So the number was {guess}!\")\n",
    "\n",
    "computer_guess(1000)"
   ]
  },
  {
   "cell_type": "code",
   "execution_count": null,
   "metadata": {},
   "outputs": [],
   "source": []
  }
 ],
 "metadata": {
  "kernelspec": {
   "display_name": "Python 3.10.5 64-bit",
   "language": "python",
   "name": "python3"
  },
  "language_info": {
   "codemirror_mode": {
    "name": "ipython",
    "version": 3
   },
   "file_extension": ".py",
   "mimetype": "text/x-python",
   "name": "python",
   "nbconvert_exporter": "python",
   "pygments_lexer": "ipython3",
   "version": "3.10.5"
  },
  "orig_nbformat": 4,
  "vscode": {
   "interpreter": {
    "hash": "ab2612aaeb4f5f80da0cacced4c32c0afe9440b5d46c96d62a3ef50ac2ddad34"
   }
  }
 },
 "nbformat": 4,
 "nbformat_minor": 2
}
