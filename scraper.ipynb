{
 "cells": [
  {
   "cell_type": "code",
   "execution_count": null,
   "metadata": {},
   "outputs": [],
   "source": [
    "import requests\n",
    "from bs4 import BeautifulSoup\n",
    "import random\n",
    "\n",
    "def scrapeWikiArticle(url):\n",
    "\tresponse = requests.get(\n",
    "\t\turl=url,\n",
    "\t)\n",
    "\t\n",
    "\tsoup = BeautifulSoup(response.content, 'html.parser')\n",
    "\n",
    "\ttitle = soup.find(id=\"firstHeading\")\n",
    "\tprint(title.text)\n",
    "\n",
    "\tallLinks = soup.find(id=\"bodyContent\").find_all(\"a\")\n",
    "\trandom.shuffle(allLinks)\n",
    "\tlinkToScrape = 0\n",
    "\n",
    "\tfor link in allLinks:\n",
    "\t\t# We are only interested in other wiki articles\n",
    "\t\tif link['href'].find(\"/wiki/\") == -1: \n",
    "\t\t\tcontinue\n",
    "\n",
    "\t\t# Use this link to scrape\n",
    "\t\tlinkToScrape = link\n",
    "\t\tbreak\n",
    "\n",
    "\tscrapeWikiArticle(\"https://en.wikipedia.org\" + linkToScrape['href'])\n",
    "\n",
    "scrapeWikiArticle(\"https://en.wikipedia.org/wiki/Web_scraping\")"
   ]
  }
 ],
 "metadata": {
  "kernelspec": {
   "display_name": "Python 3.10.5 64-bit (windows store)",
   "language": "python",
   "name": "python3"
  },
  "language_info": {
   "codemirror_mode": {
    "name": "ipython",
    "version": 3
   },
   "file_extension": ".py",
   "mimetype": "text/x-python",
   "name": "python",
   "nbconvert_exporter": "python",
   "pygments_lexer": "ipython3",
   "version": "3.10.5"
  },
  "orig_nbformat": 4,
  "vscode": {
   "interpreter": {
    "hash": "ab471ca692a2091aa1579493b5d88a30eb77fd6951c22f5211e1959797f9576d"
   }
  }
 },
 "nbformat": 4,
 "nbformat_minor": 2
}
